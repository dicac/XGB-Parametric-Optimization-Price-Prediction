#Loading libraries
import pandas as pd
from sklearn.model_selection import train_test_split
from sklearn.ensemble import RandomForestRegressor
from sklearn.metrics import mean_absolute_error,mean_squared_error,r2_score

avodata =  pd.read_csv('/avocado.csv'

#Choosing target variable and predictor variables

x = data.drop(['AveragePrice', 'Date'], axis = 1)
y = data['AveragePrice']

#Splitting the data into training and test datasets
